{
 "cells": [
  {
   "cell_type": "markdown",
   "id": "1a3c5da3",
   "metadata": {},
   "source": [
    "# Lab Assignment Four: Multi-Layer Perceptron "
   ]
  },
  {
   "cell_type": "markdown",
   "id": "94b34d0d",
   "metadata": {},
   "source": [
    "In this lab, we will compare the performance of multi-layer perceptrons programmed  via your own various implementations. "
   ]
  },
  {
   "cell_type": "markdown",
   "id": "f23ab909",
   "metadata": {},
   "source": [
    "## Team Members:\n",
    "1) Mohammed Ahmed Abdelrazek Aboelela.\n",
    "\n",
    "2) Yihan Zhou\n",
    "\n",
    "3) Sofiya Chaku\n",
    "\n",
    "4) Naim Barnett"
   ]
  },
  {
   "cell_type": "markdown",
   "id": "2c1035d8",
   "metadata": {},
   "source": [
    "## Load, Split, and Balance (1.5 points total)"
   ]
  },
  {
   "cell_type": "markdown",
   "id": "f2fbc348",
   "metadata": {},
   "source": [
    "[.5 points] Load the data into memory and save it to a pandas data frame. Do not normalize or one-hot encode any of the features until asked to do so.  Remove any observations that having missing data. Encode any string data as integers for now. "
   ]
  },
  {
   "cell_type": "markdown",
   "id": "3356d506",
   "metadata": {},
   "source": [
    "[.5 points] Assume you are equally interested in the classification performance for each class in the dataset. Split the dataset into 80% for training and 20% for testing.\n"
   ]
  },
  {
   "cell_type": "markdown",
   "id": "61f8fb8d",
   "metadata": {},
   "source": [
    "[.5 points] Balance the dataset so that about the same number of instances are within each class. Choose a method for balancing the dataset and explain your reasoning for selecting this method. One option is to choose quantization thresholds for the \"ChildPoverty\" variable that equally divide the data into four classes. Should balancing of the dataset be done for both the training and testing set? Explain.\n"
   ]
  },
  {
   "cell_type": "markdown",
   "id": "c84e2bfa",
   "metadata": {},
   "source": [
    "Note: You will need to one hot encode the target, but do not one hot encode the categorical data until instructed to do so in the lab. \n"
   ]
  },
  {
   "cell_type": "markdown",
   "id": "83132541",
   "metadata": {},
   "source": [
    "## Pre-processing (2.5 points total)"
   ]
  },
  {
   "cell_type": "markdown",
   "id": "6d8b2a0c",
   "metadata": {},
   "source": [
    "There are a number of version of the two layer perceptron covered in class. When using the example two layer network from class be sure that you use: (1) vectorized computation, (2) mini-batching, (3) cross entropy loss, and (4) proper Glorot initialization, at a minimum.  \n"
   ]
  },
  {
   "cell_type": "markdown",
   "id": "adfc437d",
   "metadata": {},
   "source": [
    "[.5 points] Use the example two-layer perceptron network from the class example and quantify performance using accuracy. Do not normalize or one-hot encode the data (not yet). Be sure that training converges by graphing the loss function versus the number of epochs. \n"
   ]
  },
  {
   "cell_type": "markdown",
   "id": "8dd5c0e7",
   "metadata": {},
   "source": [
    "[.5 points] Now normalize the continuous numeric feature data. Use the example two-layer perceptron network from the class example and quantify performance using accuracy. Be sure that training converges by graphing the loss function versus the number of epochs.  \n"
   ]
  },
  {
   "cell_type": "markdown",
   "id": "7f84b71b",
   "metadata": {},
   "source": [
    "[.5 points] Now normalize the continuous numeric feature data AND one hot encode the categorical data. Use the example two-layer perceptron network from the class example and quantify performance using accuracy. Be sure that training converges by graphing the loss function versus the number of epochs. \n"
   ]
  },
  {
   "cell_type": "markdown",
   "id": "39d6ffb5",
   "metadata": {},
   "source": [
    "[1 points] Compare the performance of the three models you just trained. Are there any meaningful differences in performance? Explain, in your own words, why these models have (or do not have) different performances.  \n",
    "\n",
    "Use one-hot encoding and normalization on the dataset for the remainder of this lab assignment.\n"
   ]
  },
  {
   "cell_type": "markdown",
   "id": "91fe4f0c",
   "metadata": {},
   "source": [
    "## Modeling (5 points total)"
   ]
  },
  {
   "cell_type": "markdown",
   "id": "dca02a70",
   "metadata": {},
   "source": [
    "[1 points] Add support for a third layer in the multi-layer perceptron. Add support for saving (and plotting after training is completed) the average magnitude of the gradient for each layer, for each epoch. For magnitude calculation, you are free to use either the average absolute values or the L1/L2 norm. Quantify the performance of the model and graph the magnitudes for each layer versus the number of epochs.\n"
   ]
  },
  {
   "cell_type": "markdown",
   "id": "365a8315",
   "metadata": {},
   "source": [
    "[1 points] Repeat the previous step, adding support for a fourth layer.\n"
   ]
  },
  {
   "cell_type": "markdown",
   "id": "0a3eb84f",
   "metadata": {},
   "source": [
    "[1 points] Repeat the previous step, adding support for a fifth layer. \n"
   ]
  },
  {
   "cell_type": "markdown",
   "id": "1b1f5c79",
   "metadata": {},
   "source": [
    "[2 points] Implement an adaptive learning technique that was discussed in lecture and use it on the five layer network. Compare the performance of this model with and without the adaptive learning strategy. Do not use AdaM for the adaptive learning technique. \n"
   ]
  },
  {
   "cell_type": "markdown",
   "id": "1cbd9ff8",
   "metadata": {},
   "source": [
    "## Exceptional Work (1 points total)"
   ]
  },
  {
   "cell_type": "markdown",
   "id": "0f45afbe",
   "metadata": {},
   "source": [
    "5000 level student: You have free reign to provide additional analyses."
   ]
  },
  {
   "cell_type": "markdown",
   "id": "91bf28e1",
   "metadata": {},
   "source": [
    "One idea (required for 7000 level students):  Implement adaptive momentum (AdaM) in the five layer neural network and quantify the performance. "
   ]
  }
 ],
 "metadata": {
  "kernelspec": {
   "display_name": "Python 3 (ipykernel)",
   "language": "python",
   "name": "python3"
  },
  "language_info": {
   "codemirror_mode": {
    "name": "ipython",
    "version": 3
   },
   "file_extension": ".py",
   "mimetype": "text/x-python",
   "name": "python",
   "nbconvert_exporter": "python",
   "pygments_lexer": "ipython3",
   "version": "3.9.12"
  }
 },
 "nbformat": 4,
 "nbformat_minor": 5
}
